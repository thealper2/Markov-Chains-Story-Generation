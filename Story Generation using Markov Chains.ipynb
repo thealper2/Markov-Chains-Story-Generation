{
 "cells": [
  {
   "cell_type": "markdown",
   "id": "4e6cea99-a777-45e6-9b53-b58ca1833579",
   "metadata": {},
   "source": [
    "# Import Libraries"
   ]
  },
  {
   "cell_type": "code",
   "execution_count": null,
   "id": "82468d45-94ba-4f13-91a5-d9deca1cfb51",
   "metadata": {},
   "outputs": [],
   "source": [
    "import os\n",
    "import re\n",
    "import random\n",
    "import string\n",
    "import numpy as np\n",
    "import pandas as pd\n",
    "import matplotlib.pyplot as plt\n",
    "from collections import Counter\n",
    "from nltk.tokenize import word_tokenize\n",
    "from nltk.corpus import stopwords\n",
    "from wordcloud import WordCloud\n",
    "from sklearn.feature_extraction.text import CountVectorizer"
   ]
  },
  {
   "cell_type": "markdown",
   "id": "442efd68-95c3-47b7-8e87-b6bf2eba6d8e",
   "metadata": {},
   "source": [
    "# Load Data"
   ]
  },
  {
   "cell_type": "code",
   "execution_count": null,
   "id": "1773b5b4-1b11-4b06-bd69-f30928fbb61a",
   "metadata": {},
   "outputs": [],
   "source": [
    "files_path = \"/mnt/d/Datasets/harry-potter-stories/\""
   ]
  },
  {
   "cell_type": "code",
   "execution_count": null,
   "id": "1a3040fa-eb59-47e0-965b-fd62a103e50f",
   "metadata": {},
   "outputs": [],
   "source": [
    "def read_files(path):\n",
    "    stories = []\n",
    "    for file in os.listdir(path):\n",
    "        if file.endswith(\".txt\"):\n",
    "            with open(os.path.join(path, file)) as f:\n",
    "                for line in f:\n",
    "                    line = line.strip()\n",
    "                    if len(line) > 1:\n",
    "                        stories.append(line)\n",
    "\n",
    "            f.close()\n",
    "\n",
    "    return stories"
   ]
  },
  {
   "cell_type": "code",
   "execution_count": null,
   "id": "1c3c4eee-cb6b-4d15-aab4-4efdee10194d",
   "metadata": {},
   "outputs": [],
   "source": [
    "stories = read_files(files_path)"
   ]
  },
  {
   "cell_type": "code",
   "execution_count": null,
   "id": "4e485fa4-be94-488e-8e46-23886be5400e",
   "metadata": {},
   "outputs": [],
   "source": [
    "len(stories)"
   ]
  },
  {
   "cell_type": "markdown",
   "id": "320199a9-4c9d-4db4-8d59-966b5ce3c8a8",
   "metadata": {},
   "source": [
    "# Preprocess"
   ]
  },
  {
   "cell_type": "code",
   "execution_count": null,
   "id": "d5292c06-0953-4eff-a3cb-5604f11e00be",
   "metadata": {},
   "outputs": [],
   "source": [
    "def clean_stories(texts):\n",
    "    cleaned = []\n",
    "    for text in texts:\n",
    "        text = text.lower()\n",
    "        text = re.sub('[0-9]+', '', text)\n",
    "        text = text.translate(text.maketrans('', '', string.punctuation))\n",
    "        text = text.replace('\"', '').replace(\"’\", '').replace(\"'\", '').replace(\"”\", '')\n",
    "        cleaned.append(text)\n",
    "\n",
    "    return cleaned"
   ]
  },
  {
   "cell_type": "code",
   "execution_count": null,
   "id": "ba9e16a8-f1aa-4765-9f7d-3721286e6dcd",
   "metadata": {},
   "outputs": [],
   "source": [
    "cleaned = clean_stories(stories)"
   ]
  },
  {
   "cell_type": "code",
   "execution_count": null,
   "id": "8e84a236-7845-49be-8ee2-84937c5714ed",
   "metadata": {},
   "outputs": [],
   "source": [
    "stop_words = [x.strip() for x in open('/mnt/d/Datasets/SmartStoplist.txt','r').read().split('\\n')]"
   ]
  },
  {
   "cell_type": "code",
   "execution_count": null,
   "id": "324dfc7f-dffd-427a-b184-65ac1ee87832",
   "metadata": {},
   "outputs": [],
   "source": [
    "cleaned_ns = [' '.join([word for word in text.split() if word.lower() not in stop_words]) for text in cleaned]"
   ]
  },
  {
   "cell_type": "markdown",
   "id": "fa5e860c-2ff6-47b5-bf9d-dedda86ba864",
   "metadata": {},
   "source": [
    "# EDA"
   ]
  },
  {
   "cell_type": "code",
   "execution_count": null,
   "id": "625a5d65-ecbd-4658-96c7-8b2130d8986c",
   "metadata": {},
   "outputs": [],
   "source": [
    "def print_wordcloud(words):\n",
    "    wordcloud = WordCloud(background_color=\"white\", width=1200, height=800).generate(words)\n",
    "\n",
    "    plt.figure(figsize=(12, 8))\n",
    "    plt.imshow(wordcloud)\n",
    "    plt.axis(\"off\")\n",
    "    plt.title(\"Word Cloud\")\n",
    "    plt.show()"
   ]
  },
  {
   "cell_type": "code",
   "execution_count": null,
   "id": "b9fe190e-0f14-46e8-b7c8-40c2b08e9f13",
   "metadata": {},
   "outputs": [],
   "source": [
    "print_wordcloud(' '.join(cleaned_ns))"
   ]
  },
  {
   "cell_type": "code",
   "execution_count": null,
   "id": "cdd759b3-2345-4bad-8525-dc4927e45612",
   "metadata": {},
   "outputs": [],
   "source": [
    "def count_ngrams(corpus, ngram, n):\n",
    "    vec = CountVectorizer(ngram_range=(ngram,ngram)).fit(corpus)\n",
    "    bow = vec.transform(corpus).sum(axis=0)\n",
    "    words_freq = sorted([(word, bow[0, idx]) for word, idx in vec.vocabulary_.items()], key=lambda x: x[1], reverse=True)[:n]\n",
    "    return words_freq"
   ]
  },
  {
   "cell_type": "code",
   "execution_count": null,
   "id": "3e129ecf-8c07-4452-826f-41fa97ca4671",
   "metadata": {},
   "outputs": [],
   "source": [
    "def plot_ngrams(ngram_df, ngram_name):\n",
    "    plt.figure(figsize=(12, 6))\n",
    "    plt.bar(data=ngram_df, x=\"Text\", height=\"Count\")\n",
    "    plt.xticks(rotation=90)\n",
    "    plt.xlabel(ngram_name)\n",
    "    plt.ylabel(\"Count\")\n",
    "    plt.title(ngram_name)\n",
    "    plt.show()"
   ]
  },
  {
   "cell_type": "code",
   "execution_count": null,
   "id": "99341ec4-91fe-4e9f-853b-8a548e839896",
   "metadata": {},
   "outputs": [],
   "source": [
    "unigrams = count_ngrams(cleaned_ns, 1, 30)\n",
    "top_unigram = pd.DataFrame(unigrams, columns=['Text', \"Count\"])\n",
    "top_unigram.head()"
   ]
  },
  {
   "cell_type": "code",
   "execution_count": null,
   "id": "313e8bb6-f985-46ef-849e-7b1ce7a58638",
   "metadata": {},
   "outputs": [],
   "source": [
    "plot_ngrams(top_unigram, \"Unigrams\")"
   ]
  },
  {
   "cell_type": "code",
   "execution_count": null,
   "id": "db9a7171-f9db-43a7-87d6-8403de8e5082",
   "metadata": {},
   "outputs": [],
   "source": [
    "bigrams = count_ngrams(cleaned_ns, 2, 30)\n",
    "top_bigram = pd.DataFrame(bigrams, columns=['Text', \"Count\"])\n",
    "top_bigram.head()"
   ]
  },
  {
   "cell_type": "code",
   "execution_count": null,
   "id": "9c575fd6-58e6-45e4-9af4-1258fda31e0b",
   "metadata": {},
   "outputs": [],
   "source": [
    "plot_ngrams(top_bigram, \"Bigrams\")"
   ]
  },
  {
   "cell_type": "code",
   "execution_count": null,
   "id": "ccd2fbb7-0156-4d56-b290-95506a58ea83",
   "metadata": {},
   "outputs": [],
   "source": [
    "trigrams = count_ngrams(cleaned_ns, 3, 30)\n",
    "top_trigram = pd.DataFrame(trigrams, columns=['Text', \"Count\"])\n",
    "top_trigram.head()"
   ]
  },
  {
   "cell_type": "code",
   "execution_count": null,
   "id": "5c1e569e-6d02-4da2-a884-a2cd94713a93",
   "metadata": {},
   "outputs": [],
   "source": [
    "plot_ngrams(top_trigram, \"Trigrams\")"
   ]
  },
  {
   "cell_type": "markdown",
   "id": "4e12e917-6ae5-494c-ba32-2603dbdb8bf6",
   "metadata": {},
   "source": [
    "# Markov Chains"
   ]
  },
  {
   "cell_type": "code",
   "execution_count": null,
   "id": "7d11aeac-3995-4e8e-bcbb-8ef704696575",
   "metadata": {},
   "outputs": [],
   "source": [
    "def build_markov_model(text, n=2):\n",
    "    words = text.split()\n",
    "    markov_chain = {}\n",
    "    \n",
    "    for i in range(len(words) - n):\n",
    "        curr_state = tuple(words[i:i + n])\n",
    "        next_state = tuple(words[i+1:i+1+n])\n",
    "\n",
    "        if curr_state not in markov_chain:\n",
    "            markov_chain[curr_state] = {}\n",
    "        if next_state not in markov_chain[curr_state]:\n",
    "            markov_chain[curr_state][next_state] = 0\n",
    "        markov_chain[curr_state][next_state] += 1\n",
    "\n",
    "    for curr_state, transitions in markov_chain.items():\n",
    "        total = sum(transitions.values())\n",
    "        for state in transitions:\n",
    "            markov_chain[curr_state][state] /= total\n",
    "    \n",
    "    return markov_chain"
   ]
  },
  {
   "cell_type": "code",
   "execution_count": null,
   "id": "8dc0fa3e-5b9d-4792-90b6-83f0862e4c8e",
   "metadata": {},
   "outputs": [],
   "source": [
    "markov_model = build_markov_model(' '.join(cleaned), n=2)"
   ]
  },
  {
   "cell_type": "markdown",
   "id": "3b187dd9-f85e-48fc-bf7c-d8774bc88a3a",
   "metadata": {},
   "source": [
    "# Generate"
   ]
  },
  {
   "cell_type": "code",
   "execution_count": null,
   "id": "c5172ba9-e973-4383-8260-bec14ebe8da8",
   "metadata": {},
   "outputs": [],
   "source": [
    "def generate_story(markov_model, start_words, max_length=100):\n",
    "    start = tuple(start_words)\n",
    "    if start not in markov_model:\n",
    "        raise ValueError(f\"Starting state '{start}' not found in the Markov model.\")\n",
    "\n",
    "    story = start_words\n",
    "    curr_state = start\n",
    "\n",
    "    for _ in range(max_length - len(start_words)):\n",
    "        if curr_state not in markov_model:\n",
    "            break\n",
    "\n",
    "        next_state = random.choices(\n",
    "            population=list(markov_model[curr_state].keys()),\n",
    "            weights=list(markov_model[curr_state].values())\n",
    "        )[0]\n",
    "        \n",
    "        story.append(list(next_state)[-1])\n",
    "        curr_state = next_state\n",
    "\n",
    "    return ' '.join(story)"
   ]
  },
  {
   "cell_type": "markdown",
   "id": "71af8e9a-dfca-4abb-b2bb-cdeec546f375",
   "metadata": {},
   "source": [
    "# Results"
   ]
  },
  {
   "cell_type": "code",
   "execution_count": null,
   "id": "1a3e69d8-f0dd-48e7-8377-d0e2646138c9",
   "metadata": {},
   "outputs": [],
   "source": [
    "start_words = [\"the\", \"day\"]\n",
    "generated = generate_story(markov_model, start_words, max_length=10)\n",
    "\n",
    "print(\"Generated Text:\")\n",
    "print(generated)"
   ]
  },
  {
   "cell_type": "code",
   "execution_count": null,
   "id": "e01db251-7a12-4dbd-984a-74f745b3d029",
   "metadata": {},
   "outputs": [],
   "source": []
  },
  {
   "cell_type": "code",
   "execution_count": null,
   "id": "58011341-64b9-4de2-89d6-2c8c89e597f0",
   "metadata": {},
   "outputs": [],
   "source": []
  },
  {
   "cell_type": "code",
   "execution_count": null,
   "id": "18af57a9-9d60-412d-a63f-7fc1f76e9cbd",
   "metadata": {},
   "outputs": [],
   "source": []
  }
 ],
 "metadata": {
  "kernelspec": {
   "display_name": "Python 3 (ipykernel)",
   "language": "python",
   "name": "python3"
  },
  "language_info": {
   "codemirror_mode": {
    "name": "ipython",
    "version": 3
   },
   "file_extension": ".py",
   "mimetype": "text/x-python",
   "name": "python",
   "nbconvert_exporter": "python",
   "pygments_lexer": "ipython3",
   "version": "3.10.12"
  }
 },
 "nbformat": 4,
 "nbformat_minor": 5
}
